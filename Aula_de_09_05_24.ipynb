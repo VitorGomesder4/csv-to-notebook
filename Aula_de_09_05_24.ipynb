{
  "nbformat": 4,
  "nbformat_minor": 0,
  "metadata": {
    "colab": {
      "provenance": [],
      "authorship_tag": "ABX9TyMggxCtQjqLYXKxLq4m+uVT",
      "include_colab_link": true
    },
    "kernelspec": {
      "name": "python3",
      "display_name": "Python 3"
    },
    "language_info": {
      "name": "python"
    }
  },
  "cells": [
    {
      "cell_type": "markdown",
      "metadata": {
        "id": "view-in-github",
        "colab_type": "text"
      },
      "source": [
        "<a href=\"https://colab.research.google.com/github/VitorGomesder4/csv-to-notebook/blob/main/Aula_de_09_05_24.ipynb\" target=\"_parent\"><img src=\"https://colab.research.google.com/assets/colab-badge.svg\" alt=\"Open In Colab\"/></a>"
      ]
    },
    {
      "cell_type": "markdown",
      "source": [
        "**Aula de 09/05/24** _ Engenharia de Software\n",
        "_ N1\n",
        "\n",
        "Nome: Vitor Gomes Araújo"
      ],
      "metadata": {
        "id": "gbYSl0z5gMLz"
      }
    },
    {
      "cell_type": "markdown",
      "source": [
        "[Como importar CSV para notebook](https://acervolima.com/maneiras-de-importar-arquivos-csv-no-google-colab/)"
      ],
      "metadata": {
        "id": "YbD3rKtn7KHB"
      }
    },
    {
      "cell_type": "code",
      "execution_count": null,
      "metadata": {
        "id": "CEoFJsZ-gIY_"
      },
      "outputs": [],
      "source": [
        "#SQILITE biblioteca para criação de database par APIS\n",
        "import sqlite3 #comando para importar sqlite3"
      ]
    }
  ]
}